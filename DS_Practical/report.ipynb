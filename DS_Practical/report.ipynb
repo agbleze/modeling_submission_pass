{
 "cells": [
  {
   "cell_type": "markdown",
   "metadata": {},
   "source": [
    "# DS_PRACTICAL"
   ]
  },
  {
   "cell_type": "markdown",
   "metadata": {},
   "source": [
    "1. Students- Here we provide you with 2 datasets associated with 2 differently \n",
    "modeled progress. Note: the data is example data and doesn’t show the \n",
    "students’ actual performance rates. With the different progress models we are aiming \n",
    "to improve our performance indicators. One performance indicator is consistency in time \n",
    "between submissions for the students. We are interested in evaluating if either of these\n",
    "two models is performing better in terms of time between submissions. How would you evaluate this?\n",
    "\n"
   ]
  },
  {
   "cell_type": "markdown",
   "metadata": {},
   "source": [
    "## Intriduction\n",
    "\n",
    "The task of determining which of the two progress models is performing better in terms of consistency in time between submissions for students suggests the solution of hypothesis testing hence the main solution provided for the problem. Before such an analysis, a key question is how the performance indicator for the hypothesis testing is calculated.\n",
    "\n",
    "For this, the performance indicator needs to be conceptualized in order to operationalize its evaluation based on the data available.\n",
    "\n",
    "The following need to be translated to a tangible analytic solution for the performance indicator to be analyzed.\n",
    "\n",
    "\n",
    "\n",
    "Time between submission: For a given student, the time between submission is the difference between the approved date for a submission and the approved date for the immediate past submission. In other words, for submission 1, 2, 3, the time between submission 3 and 2 is the difference in approved date between submission 3 and 2. For submission 1, there is no previous submission so the corresponding date between subission is not caculable hence a missing value. This logic is repeated for each student and submission in order to estimate the time between submission for all students and submission in each of the progress models. A key assumption is that approved date is the date that a submission is accepted and denoted as having occurred.\n",
    "\n",
    "\n",
    "\n",
    "Consistency in time between submission: is operationaliized to be how much of a variation is noted in the estimated time between submission for students in a progress model. Statistically, this is estimated as variance in the estimated time between submissions. Thus, if there is a high inconsistency in time between submission, one will expect a high variance which implies a higher standard deviation from the mean time between submission for students in a progress model.\n",
    "\n",
    "\n",
    "\n",
    "Using the identified approach above, the variance in time between submission for students in progress model A and B are estimated and compared. A progress model with a lower variance suggests a better consistency in time between submission. Nonetheless, for a progress model to be considered as performing better in attaining consistency in time between submission than a different progress model, not only does it need to attain a lower variance in time between submission but more importantly, there need to be a statistically significant difference in variance in time between submissions for the progress models.\n",
    "\n",
    "\n",
    "The conceptualization above in terms of how to evaluate which of the progress models is performing better is implemented in python below."
   ]
  },
  {
   "cell_type": "markdown",
   "metadata": {},
   "source": [
    "### Data access\n",
    "\n",
    "The data is in a numbers file hence the individual datasets need to be retrieved first and converted to \n",
    "\n",
    "a dataframe. Before that all the modules required for the analysis are imported as follows. \n",
    "\n",
    "\n"
   ]
  },
  {
   "cell_type": "code",
   "execution_count": 40,
   "metadata": {},
   "outputs": [],
   "source": [
    "# import modules\n",
    "\n",
    "import pandas as pd\n",
    "from numbers_parser import Document\n",
    "import os\n",
    "import scipy.stats as stats\n",
    "import pingouin as pg\n"
   ]
  },
  {
   "cell_type": "code",
   "execution_count": 12,
   "metadata": {},
   "outputs": [],
   "source": [
    "# function to access the data\n",
    "\n",
    "def get_data_from_numbers_file(data_filepath: str, tab: int):\n",
    "    doc = Document(data_filepath)\n",
    "    sheets = doc.sheets\n",
    "    tables = sheets[tab].tables\n",
    "    data = tables[0].rows(values_only=True)\n",
    "    df = pd.DataFrame(data[1:], columns=data[0])\n",
    "    return df\n",
    "\n",
    "\n",
    "\n",
    "# function to get the full pathname for the data file\n",
    "\n",
    "def get_data_path(folder_name: str, file_name: str):\n",
    "    cwd = os.getcwd()\n",
    "    return f\"{cwd}/{folder_name}/{file_name}\"\n",
    "\n"
   ]
  },
  {
   "cell_type": "markdown",
   "metadata": {},
   "source": [
    "The functions defined to get location for where the data is located and also for retrieving the \n",
    "data are implemented below. The various datasets are viewed to identify features that will be needed for \n",
    "the task."
   ]
  },
  {
   "cell_type": "code",
   "execution_count": 14,
   "metadata": {},
   "outputs": [
    {
     "data": {
      "text/html": [
       "<div>\n",
       "<style scoped>\n",
       "    .dataframe tbody tr th:only-of-type {\n",
       "        vertical-align: middle;\n",
       "    }\n",
       "\n",
       "    .dataframe tbody tr th {\n",
       "        vertical-align: top;\n",
       "    }\n",
       "\n",
       "    .dataframe thead th {\n",
       "        text-align: right;\n",
       "    }\n",
       "</style>\n",
       "<table border=\"1\" class=\"dataframe\">\n",
       "  <thead>\n",
       "    <tr style=\"text-align: right;\">\n",
       "      <th></th>\n",
       "      <th>exercise_id</th>\n",
       "      <th>name</th>\n",
       "      <th>position</th>\n",
       "      <th>min_task_time_in_min</th>\n",
       "      <th>max_task_time_in_min</th>\n",
       "    </tr>\n",
       "  </thead>\n",
       "  <tbody>\n",
       "    <tr>\n",
       "      <th>0</th>\n",
       "      <td>8306.0</td>\n",
       "      <td>Exercise 1</td>\n",
       "      <td>1.0</td>\n",
       "      <td>240.0</td>\n",
       "      <td>360.0</td>\n",
       "    </tr>\n",
       "    <tr>\n",
       "      <th>1</th>\n",
       "      <td>8307.0</td>\n",
       "      <td>Exercise 2</td>\n",
       "      <td>2.0</td>\n",
       "      <td>240.0</td>\n",
       "      <td>360.0</td>\n",
       "    </tr>\n",
       "    <tr>\n",
       "      <th>2</th>\n",
       "      <td>8308.0</td>\n",
       "      <td>Exercise 3</td>\n",
       "      <td>3.0</td>\n",
       "      <td>60.0</td>\n",
       "      <td>180.0</td>\n",
       "    </tr>\n",
       "    <tr>\n",
       "      <th>3</th>\n",
       "      <td>8309.0</td>\n",
       "      <td>Exercise 4</td>\n",
       "      <td>4.0</td>\n",
       "      <td>60.0</td>\n",
       "      <td>180.0</td>\n",
       "    </tr>\n",
       "    <tr>\n",
       "      <th>4</th>\n",
       "      <td>8310.0</td>\n",
       "      <td>Exercise 5</td>\n",
       "      <td>5.0</td>\n",
       "      <td>60.0</td>\n",
       "      <td>180.0</td>\n",
       "    </tr>\n",
       "  </tbody>\n",
       "</table>\n",
       "</div>"
      ],
      "text/plain": [
       "   exercise_id        name  position  min_task_time_in_min  \\\n",
       "0       8306.0  Exercise 1       1.0                 240.0   \n",
       "1       8307.0  Exercise 2       2.0                 240.0   \n",
       "2       8308.0  Exercise 3       3.0                  60.0   \n",
       "3       8309.0  Exercise 4       4.0                  60.0   \n",
       "4       8310.0  Exercise 5       5.0                  60.0   \n",
       "\n",
       "   max_task_time_in_min  \n",
       "0                 360.0  \n",
       "1                 360.0  \n",
       "2                 180.0  \n",
       "3                 180.0  \n",
       "4                 180.0  "
      ]
     },
     "execution_count": 14,
     "metadata": {},
     "output_type": "execute_result"
    }
   ],
   "source": [
    "# get the full filepath for the dataset\n",
    "\n",
    "datapath = get_data_path(folder_name='', file_name='student_-_exercise_progress.numbers')\n",
    "\n",
    "# get data for tab 1\n",
    "\n",
    "df_0 = get_data_from_numbers_file(data_filepath=datapath, tab=0)\n",
    "\n",
    "# show first 5 rows of data\n",
    "df_0.head()\n"
   ]
  },
  {
   "cell_type": "markdown",
   "metadata": {},
   "source": [
    "The data retrieved from the first sheet as shown above has variables none of which is required to \n",
    "\n",
    "complete the first task as conceptualized above. The data in the second sheet is retrieved below "
   ]
  },
  {
   "cell_type": "code",
   "execution_count": 15,
   "metadata": {},
   "outputs": [
    {
     "data": {
      "text/html": [
       "<div>\n",
       "<style scoped>\n",
       "    .dataframe tbody tr th:only-of-type {\n",
       "        vertical-align: middle;\n",
       "    }\n",
       "\n",
       "    .dataframe tbody tr th {\n",
       "        vertical-align: top;\n",
       "    }\n",
       "\n",
       "    .dataframe thead th {\n",
       "        text-align: right;\n",
       "    }\n",
       "</style>\n",
       "<table border=\"1\" class=\"dataframe\">\n",
       "  <thead>\n",
       "    <tr style=\"text-align: right;\">\n",
       "      <th></th>\n",
       "      <th>student_id</th>\n",
       "      <th>name</th>\n",
       "      <th>start_date</th>\n",
       "      <th>target_completion_date</th>\n",
       "      <th>progress_percent</th>\n",
       "      <th>test_variable</th>\n",
       "    </tr>\n",
       "  </thead>\n",
       "  <tbody>\n",
       "    <tr>\n",
       "      <th>0</th>\n",
       "      <td>45727.0</td>\n",
       "      <td>Student 1</td>\n",
       "      <td>2020-08-13 00:00:00+00:00</td>\n",
       "      <td>2020-12-15 00:00:00+00:00</td>\n",
       "      <td>22.0</td>\n",
       "      <td>b</td>\n",
       "    </tr>\n",
       "    <tr>\n",
       "      <th>1</th>\n",
       "      <td>45566.0</td>\n",
       "      <td>Student 2</td>\n",
       "      <td>2020-08-09 00:00:00+00:00</td>\n",
       "      <td>2020-12-15 00:00:00+00:00</td>\n",
       "      <td>52.0</td>\n",
       "      <td>b</td>\n",
       "    </tr>\n",
       "    <tr>\n",
       "      <th>2</th>\n",
       "      <td>45641.0</td>\n",
       "      <td>Student 3</td>\n",
       "      <td>2020-08-11 00:00:00+00:00</td>\n",
       "      <td>2020-12-15 00:00:00+00:00</td>\n",
       "      <td>49.0</td>\n",
       "      <td>b</td>\n",
       "    </tr>\n",
       "    <tr>\n",
       "      <th>3</th>\n",
       "      <td>46150.0</td>\n",
       "      <td>Student 4</td>\n",
       "      <td>2020-08-23 00:00:00+00:00</td>\n",
       "      <td>2021-01-05 00:00:00+00:00</td>\n",
       "      <td>36.0</td>\n",
       "      <td>a</td>\n",
       "    </tr>\n",
       "    <tr>\n",
       "      <th>4</th>\n",
       "      <td>46852.0</td>\n",
       "      <td>Student 5</td>\n",
       "      <td>2020-09-07 00:00:00+00:00</td>\n",
       "      <td>2021-01-19 00:00:00+00:00</td>\n",
       "      <td>24.0</td>\n",
       "      <td>b</td>\n",
       "    </tr>\n",
       "  </tbody>\n",
       "</table>\n",
       "</div>"
      ],
      "text/plain": [
       "   student_id       name                start_date    target_completion_date  \\\n",
       "0     45727.0  Student 1 2020-08-13 00:00:00+00:00 2020-12-15 00:00:00+00:00   \n",
       "1     45566.0  Student 2 2020-08-09 00:00:00+00:00 2020-12-15 00:00:00+00:00   \n",
       "2     45641.0  Student 3 2020-08-11 00:00:00+00:00 2020-12-15 00:00:00+00:00   \n",
       "3     46150.0  Student 4 2020-08-23 00:00:00+00:00 2021-01-05 00:00:00+00:00   \n",
       "4     46852.0  Student 5 2020-09-07 00:00:00+00:00 2021-01-19 00:00:00+00:00   \n",
       "\n",
       "   progress_percent test_variable  \n",
       "0              22.0             b  \n",
       "1              52.0             b  \n",
       "2              49.0             b  \n",
       "3              36.0             a  \n",
       "4              24.0             b  "
      ]
     },
     "execution_count": 15,
     "metadata": {},
     "output_type": "execute_result"
    }
   ],
   "source": [
    "df_1 = get_data_from_numbers_file(data_filepath=datapath, tab=1)\n",
    "\n",
    "df_1.head()"
   ]
  },
  {
   "cell_type": "markdown",
   "metadata": {},
   "source": [
    "The data retrieved from the second sheet has variables such as student_id and test_variable which are \n",
    "needed for the task. \n",
    "\n",
    "\n",
    "### Progress model\n",
    "\n",
    "Progress model to be tested is represented by test_variable with the values identified as follows;"
   ]
  },
  {
   "cell_type": "code",
   "execution_count": 16,
   "metadata": {},
   "outputs": [
    {
     "data": {
      "text/plain": [
       "b    196\n",
       "a    193\n",
       "Name: test_variable, dtype: int64"
      ]
     },
     "execution_count": 16,
     "metadata": {},
     "output_type": "execute_result"
    }
   ],
   "source": [
    "### progress model == test_variable\n",
    "# test variables has following values\n",
    "\n",
    "df_1['test_variable'].value_counts()"
   ]
  },
  {
   "cell_type": "markdown",
   "metadata": {},
   "source": [
    "It is noted that 193 students were assigned to progress model A and 196 students were assigned to progress model B.\n",
    "\n",
    "Next, the dataset for submissions is read "
   ]
  },
  {
   "cell_type": "code",
   "execution_count": 18,
   "metadata": {},
   "outputs": [
    {
     "data": {
      "text/html": [
       "<div>\n",
       "<style scoped>\n",
       "    .dataframe tbody tr th:only-of-type {\n",
       "        vertical-align: middle;\n",
       "    }\n",
       "\n",
       "    .dataframe tbody tr th {\n",
       "        vertical-align: top;\n",
       "    }\n",
       "\n",
       "    .dataframe thead th {\n",
       "        text-align: right;\n",
       "    }\n",
       "</style>\n",
       "<table border=\"1\" class=\"dataframe\">\n",
       "  <thead>\n",
       "    <tr style=\"text-align: right;\">\n",
       "      <th></th>\n",
       "      <th>submission_id</th>\n",
       "      <th>student_id</th>\n",
       "      <th>exercise_id</th>\n",
       "      <th>state</th>\n",
       "      <th>approval_date</th>\n",
       "      <th>average_answer_time_in_hours</th>\n",
       "    </tr>\n",
       "  </thead>\n",
       "  <tbody>\n",
       "    <tr>\n",
       "      <th>0</th>\n",
       "      <td>343141.0</td>\n",
       "      <td>40243.0</td>\n",
       "      <td>8433.0</td>\n",
       "      <td>approved</td>\n",
       "      <td>2020-04-19 00:00:00+00:00</td>\n",
       "      <td>7.540</td>\n",
       "    </tr>\n",
       "    <tr>\n",
       "      <th>1</th>\n",
       "      <td>397957.0</td>\n",
       "      <td>42906.0</td>\n",
       "      <td>8433.0</td>\n",
       "      <td>approved</td>\n",
       "      <td>2020-09-02 00:00:00+00:00</td>\n",
       "      <td>7.440</td>\n",
       "    </tr>\n",
       "    <tr>\n",
       "      <th>2</th>\n",
       "      <td>398759.0</td>\n",
       "      <td>43515.0</td>\n",
       "      <td>8434.0</td>\n",
       "      <td>approved</td>\n",
       "      <td>2020-09-04 00:00:00+00:00</td>\n",
       "      <td>18.420</td>\n",
       "    </tr>\n",
       "    <tr>\n",
       "      <th>3</th>\n",
       "      <td>381763.0</td>\n",
       "      <td>43515.0</td>\n",
       "      <td>8433.0</td>\n",
       "      <td>approved</td>\n",
       "      <td>2020-07-26 00:00:00+00:00</td>\n",
       "      <td>3.520</td>\n",
       "    </tr>\n",
       "    <tr>\n",
       "      <th>4</th>\n",
       "      <td>395175.0</td>\n",
       "      <td>43660.0</td>\n",
       "      <td>8434.0</td>\n",
       "      <td>approved</td>\n",
       "      <td>2020-08-29 00:00:00+00:00</td>\n",
       "      <td>15.705</td>\n",
       "    </tr>\n",
       "  </tbody>\n",
       "</table>\n",
       "</div>"
      ],
      "text/plain": [
       "   submission_id  student_id  exercise_id     state             approval_date  \\\n",
       "0       343141.0     40243.0       8433.0  approved 2020-04-19 00:00:00+00:00   \n",
       "1       397957.0     42906.0       8433.0  approved 2020-09-02 00:00:00+00:00   \n",
       "2       398759.0     43515.0       8434.0  approved 2020-09-04 00:00:00+00:00   \n",
       "3       381763.0     43515.0       8433.0  approved 2020-07-26 00:00:00+00:00   \n",
       "4       395175.0     43660.0       8434.0  approved 2020-08-29 00:00:00+00:00   \n",
       "\n",
       "   average_answer_time_in_hours  \n",
       "0                         7.540  \n",
       "1                         7.440  \n",
       "2                        18.420  \n",
       "3                         3.520  \n",
       "4                        15.705  "
      ]
     },
     "execution_count": 18,
     "metadata": {},
     "output_type": "execute_result"
    }
   ],
   "source": [
    "df_2 = get_data_from_numbers_file(data_filepath=datapath, tab=2)\n",
    "\n",
    "df_2.head()"
   ]
  },
  {
   "cell_type": "markdown",
   "metadata": {},
   "source": [
    "From the third sheet which is the submission data, the approval date from each submission is identified for calculating the time between submission.\n",
    "\n",
    "However, this dataset alone does not provide information on which student made the submission and the progress model \n",
    "the student belong to. Given that the focus is on the time between submission for students, all the other datasets \n",
    "has to be merge. Given that there is no feature that is common to all the datasets, the merging of the dataset \n",
    "is done in a pairwise manner on columns that are in both dataset as follows.\n",
    "\n",
    "\n"
   ]
  },
  {
   "cell_type": "code",
   "execution_count": 22,
   "metadata": {},
   "outputs": [
    {
     "data": {
      "text/html": [
       "<div>\n",
       "<style scoped>\n",
       "    .dataframe tbody tr th:only-of-type {\n",
       "        vertical-align: middle;\n",
       "    }\n",
       "\n",
       "    .dataframe tbody tr th {\n",
       "        vertical-align: top;\n",
       "    }\n",
       "\n",
       "    .dataframe thead th {\n",
       "        text-align: right;\n",
       "    }\n",
       "</style>\n",
       "<table border=\"1\" class=\"dataframe\">\n",
       "  <thead>\n",
       "    <tr style=\"text-align: right;\">\n",
       "      <th></th>\n",
       "      <th>submission_id</th>\n",
       "      <th>student_id</th>\n",
       "      <th>exercise_id</th>\n",
       "      <th>state</th>\n",
       "      <th>approval_date</th>\n",
       "      <th>average_answer_time_in_hours</th>\n",
       "      <th>name_x</th>\n",
       "      <th>position</th>\n",
       "      <th>min_task_time_in_min</th>\n",
       "      <th>max_task_time_in_min</th>\n",
       "      <th>name_y</th>\n",
       "      <th>start_date</th>\n",
       "      <th>target_completion_date</th>\n",
       "      <th>progress_percent</th>\n",
       "      <th>test_variable</th>\n",
       "    </tr>\n",
       "  </thead>\n",
       "  <tbody>\n",
       "    <tr>\n",
       "      <th>0</th>\n",
       "      <td>343141.0</td>\n",
       "      <td>40243.0</td>\n",
       "      <td>8433.0</td>\n",
       "      <td>approved</td>\n",
       "      <td>2020-04-19 00:00:00+00:00</td>\n",
       "      <td>7.540</td>\n",
       "      <td>Exercise 11</td>\n",
       "      <td>11.0</td>\n",
       "      <td>60.0</td>\n",
       "      <td>180.0</td>\n",
       "      <td>Student 355</td>\n",
       "      <td>2020-02-29 00:00:00+00:00</td>\n",
       "      <td>2021-01-05 00:00:00+00:00</td>\n",
       "      <td>22.0</td>\n",
       "      <td>a</td>\n",
       "    </tr>\n",
       "    <tr>\n",
       "      <th>1</th>\n",
       "      <td>397957.0</td>\n",
       "      <td>42906.0</td>\n",
       "      <td>8433.0</td>\n",
       "      <td>approved</td>\n",
       "      <td>2020-09-02 00:00:00+00:00</td>\n",
       "      <td>7.440</td>\n",
       "      <td>Exercise 11</td>\n",
       "      <td>11.0</td>\n",
       "      <td>60.0</td>\n",
       "      <td>180.0</td>\n",
       "      <td>Student 205</td>\n",
       "      <td>2020-05-26 00:00:00+00:00</td>\n",
       "      <td>2021-02-01 00:00:00+00:00</td>\n",
       "      <td>22.0</td>\n",
       "      <td>b</td>\n",
       "    </tr>\n",
       "    <tr>\n",
       "      <th>2</th>\n",
       "      <td>398759.0</td>\n",
       "      <td>43515.0</td>\n",
       "      <td>8434.0</td>\n",
       "      <td>approved</td>\n",
       "      <td>2020-09-04 00:00:00+00:00</td>\n",
       "      <td>18.420</td>\n",
       "      <td>Exercise 21</td>\n",
       "      <td>21.0</td>\n",
       "      <td>60.0</td>\n",
       "      <td>180.0</td>\n",
       "      <td>Student 122</td>\n",
       "      <td>2020-06-12 00:00:00+00:00</td>\n",
       "      <td>2021-01-14 00:00:00+00:00</td>\n",
       "      <td>45.0</td>\n",
       "      <td>b</td>\n",
       "    </tr>\n",
       "    <tr>\n",
       "      <th>3</th>\n",
       "      <td>381763.0</td>\n",
       "      <td>43515.0</td>\n",
       "      <td>8433.0</td>\n",
       "      <td>approved</td>\n",
       "      <td>2020-07-26 00:00:00+00:00</td>\n",
       "      <td>3.520</td>\n",
       "      <td>Exercise 11</td>\n",
       "      <td>11.0</td>\n",
       "      <td>60.0</td>\n",
       "      <td>180.0</td>\n",
       "      <td>Student 122</td>\n",
       "      <td>2020-06-12 00:00:00+00:00</td>\n",
       "      <td>2021-01-14 00:00:00+00:00</td>\n",
       "      <td>45.0</td>\n",
       "      <td>b</td>\n",
       "    </tr>\n",
       "    <tr>\n",
       "      <th>4</th>\n",
       "      <td>395175.0</td>\n",
       "      <td>43660.0</td>\n",
       "      <td>8434.0</td>\n",
       "      <td>approved</td>\n",
       "      <td>2020-08-29 00:00:00+00:00</td>\n",
       "      <td>15.705</td>\n",
       "      <td>Exercise 21</td>\n",
       "      <td>21.0</td>\n",
       "      <td>60.0</td>\n",
       "      <td>180.0</td>\n",
       "      <td>Student 207</td>\n",
       "      <td>2020-06-17 00:00:00+00:00</td>\n",
       "      <td>2021-01-27 00:00:00+00:00</td>\n",
       "      <td>49.0</td>\n",
       "      <td>b</td>\n",
       "    </tr>\n",
       "  </tbody>\n",
       "</table>\n",
       "</div>"
      ],
      "text/plain": [
       "   submission_id  student_id  exercise_id     state             approval_date  \\\n",
       "0       343141.0     40243.0       8433.0  approved 2020-04-19 00:00:00+00:00   \n",
       "1       397957.0     42906.0       8433.0  approved 2020-09-02 00:00:00+00:00   \n",
       "2       398759.0     43515.0       8434.0  approved 2020-09-04 00:00:00+00:00   \n",
       "3       381763.0     43515.0       8433.0  approved 2020-07-26 00:00:00+00:00   \n",
       "4       395175.0     43660.0       8434.0  approved 2020-08-29 00:00:00+00:00   \n",
       "\n",
       "   average_answer_time_in_hours       name_x  position  min_task_time_in_min  \\\n",
       "0                         7.540  Exercise 11      11.0                  60.0   \n",
       "1                         7.440  Exercise 11      11.0                  60.0   \n",
       "2                        18.420  Exercise 21      21.0                  60.0   \n",
       "3                         3.520  Exercise 11      11.0                  60.0   \n",
       "4                        15.705  Exercise 21      21.0                  60.0   \n",
       "\n",
       "   max_task_time_in_min       name_y                start_date  \\\n",
       "0                 180.0  Student 355 2020-02-29 00:00:00+00:00   \n",
       "1                 180.0  Student 205 2020-05-26 00:00:00+00:00   \n",
       "2                 180.0  Student 122 2020-06-12 00:00:00+00:00   \n",
       "3                 180.0  Student 122 2020-06-12 00:00:00+00:00   \n",
       "4                 180.0  Student 207 2020-06-17 00:00:00+00:00   \n",
       "\n",
       "     target_completion_date  progress_percent test_variable  \n",
       "0 2021-01-05 00:00:00+00:00              22.0             a  \n",
       "1 2021-02-01 00:00:00+00:00              22.0             b  \n",
       "2 2021-01-14 00:00:00+00:00              45.0             b  \n",
       "3 2021-01-14 00:00:00+00:00              45.0             b  \n",
       "4 2021-01-27 00:00:00+00:00              49.0             b  "
      ]
     },
     "execution_count": 22,
     "metadata": {},
     "output_type": "execute_result"
    }
   ],
   "source": [
    "## merge submission data with exercise data\n",
    "\n",
    "df2_df_merge = df_2.merge(right=df_0, on='exercise_id', how='left')\n",
    "\n",
    "\n",
    "# merge the combined submission and exercise data with student data\n",
    "\n",
    "all_merge_df =  df2_df_merge.merge(right=df_1, how='left', on='student_id')\n",
    "all_merge_df.head()\n"
   ]
  },
  {
   "cell_type": "markdown",
   "metadata": {},
   "source": [
    "\n",
    "The data displayed above is a sample of the merged dataset which contains all the variables required \n",
    "for the analysis. A simple description of the variables in the merged dataset is shown below."
   ]
  },
  {
   "cell_type": "code",
   "execution_count": 23,
   "metadata": {},
   "outputs": [
    {
     "name": "stdout",
     "output_type": "stream",
     "text": [
      "<class 'pandas.core.frame.DataFrame'>\n",
      "Int64Index: 8499 entries, 0 to 8498\n",
      "Data columns (total 15 columns):\n",
      " #   Column                        Non-Null Count  Dtype                          \n",
      "---  ------                        --------------  -----                          \n",
      " 0   submission_id                 8499 non-null   float64                        \n",
      " 1   student_id                    8499 non-null   float64                        \n",
      " 2   exercise_id                   8499 non-null   float64                        \n",
      " 3   state                         8499 non-null   object                         \n",
      " 4   approval_date                 8369 non-null   datetime64[ns, Timezone('UTC')]\n",
      " 5   average_answer_time_in_hours  8499 non-null   float64                        \n",
      " 6   name_x                        8499 non-null   object                         \n",
      " 7   position                      8499 non-null   float64                        \n",
      " 8   min_task_time_in_min          8499 non-null   float64                        \n",
      " 9   max_task_time_in_min          8499 non-null   float64                        \n",
      " 10  name_y                        8499 non-null   object                         \n",
      " 11  start_date                    8499 non-null   datetime64[ns, Timezone('UTC')]\n",
      " 12  target_completion_date        8499 non-null   datetime64[ns, Timezone('UTC')]\n",
      " 13  progress_percent              8499 non-null   float64                        \n",
      " 14  test_variable                 8499 non-null   object                         \n",
      "dtypes: datetime64[ns, Timezone('UTC')](3), float64(8), object(4)\n",
      "memory usage: 1.0+ MB\n"
     ]
    }
   ],
   "source": [
    "\n",
    "all_merge_df.info()\n"
   ]
  },
  {
   "cell_type": "markdown",
   "metadata": {},
   "source": [
    "From above, the a total of 8499 individual submissions have been made by students of which 8369 has \n",
    "been approved. Only submissions that have been approved hence have an approval date can used for the analysis.\n",
    "\n",
    "\n",
    "\n"
   ]
  },
  {
   "cell_type": "markdown",
   "metadata": {},
   "source": [
    "### Estimating time between submissions for students\n",
    "The following steps were used to estimate the time between submissions for students\n",
    "\n",
    "1. Remove missing values in approval_date. Submissions which are yet to be approved has no date hence cannot be used.\n",
    "2. Sort the data based on student_id and approval_date variables\n",
    "3. Group the data by student_id variable\n",
    "4. Find the consecutive differences (rowise) between approval_date for each submission\n",
    "\n",
    "\n",
    "\n"
   ]
  },
  {
   "cell_type": "code",
   "execution_count": 27,
   "metadata": {},
   "outputs": [
    {
     "data": {
      "text/html": [
       "<div>\n",
       "<style scoped>\n",
       "    .dataframe tbody tr th:only-of-type {\n",
       "        vertical-align: middle;\n",
       "    }\n",
       "\n",
       "    .dataframe tbody tr th {\n",
       "        vertical-align: top;\n",
       "    }\n",
       "\n",
       "    .dataframe thead th {\n",
       "        text-align: right;\n",
       "    }\n",
       "</style>\n",
       "<table border=\"1\" class=\"dataframe\">\n",
       "  <thead>\n",
       "    <tr style=\"text-align: right;\">\n",
       "      <th></th>\n",
       "      <th>student_id</th>\n",
       "      <th>submission_id</th>\n",
       "      <th>approval_date</th>\n",
       "      <th>submission_time_interval</th>\n",
       "      <th>submission_time_interval_days</th>\n",
       "      <th>test_variable</th>\n",
       "    </tr>\n",
       "  </thead>\n",
       "  <tbody>\n",
       "    <tr>\n",
       "      <th>3704</th>\n",
       "      <td>39960.0</td>\n",
       "      <td>326977.0</td>\n",
       "      <td>2020-02-22 00:00:00+00:00</td>\n",
       "      <td>NaT</td>\n",
       "      <td>NaN</td>\n",
       "      <td>a</td>\n",
       "    </tr>\n",
       "    <tr>\n",
       "      <th>3703</th>\n",
       "      <td>39960.0</td>\n",
       "      <td>327411.0</td>\n",
       "      <td>2020-02-23 00:00:00+00:00</td>\n",
       "      <td>1 days</td>\n",
       "      <td>1.0</td>\n",
       "      <td>a</td>\n",
       "    </tr>\n",
       "    <tr>\n",
       "      <th>3700</th>\n",
       "      <td>39960.0</td>\n",
       "      <td>327711.0</td>\n",
       "      <td>2020-02-24 00:00:00+00:00</td>\n",
       "      <td>1 days</td>\n",
       "      <td>1.0</td>\n",
       "      <td>a</td>\n",
       "    </tr>\n",
       "    <tr>\n",
       "      <th>3701</th>\n",
       "      <td>39960.0</td>\n",
       "      <td>327697.0</td>\n",
       "      <td>2020-02-24 00:00:00+00:00</td>\n",
       "      <td>0 days</td>\n",
       "      <td>0.0</td>\n",
       "      <td>a</td>\n",
       "    </tr>\n",
       "    <tr>\n",
       "      <th>3702</th>\n",
       "      <td>39960.0</td>\n",
       "      <td>327681.0</td>\n",
       "      <td>2020-02-25 00:00:00+00:00</td>\n",
       "      <td>1 days</td>\n",
       "      <td>1.0</td>\n",
       "      <td>a</td>\n",
       "    </tr>\n",
       "    <tr>\n",
       "      <th>...</th>\n",
       "      <td>...</td>\n",
       "      <td>...</td>\n",
       "      <td>...</td>\n",
       "      <td>...</td>\n",
       "      <td>...</td>\n",
       "      <td>...</td>\n",
       "    </tr>\n",
       "    <tr>\n",
       "      <th>1898</th>\n",
       "      <td>47814.0</td>\n",
       "      <td>415323.0</td>\n",
       "      <td>2020-10-08 00:00:00+00:00</td>\n",
       "      <td>3 days</td>\n",
       "      <td>3.0</td>\n",
       "      <td>b</td>\n",
       "    </tr>\n",
       "    <tr>\n",
       "      <th>1895</th>\n",
       "      <td>47814.0</td>\n",
       "      <td>417048.0</td>\n",
       "      <td>2020-10-12 00:00:00+00:00</td>\n",
       "      <td>4 days</td>\n",
       "      <td>4.0</td>\n",
       "      <td>b</td>\n",
       "    </tr>\n",
       "    <tr>\n",
       "      <th>1896</th>\n",
       "      <td>47814.0</td>\n",
       "      <td>417018.0</td>\n",
       "      <td>2020-10-12 00:00:00+00:00</td>\n",
       "      <td>0 days</td>\n",
       "      <td>0.0</td>\n",
       "      <td>b</td>\n",
       "    </tr>\n",
       "    <tr>\n",
       "      <th>1897</th>\n",
       "      <td>47814.0</td>\n",
       "      <td>416986.0</td>\n",
       "      <td>2020-10-12 00:00:00+00:00</td>\n",
       "      <td>0 days</td>\n",
       "      <td>0.0</td>\n",
       "      <td>b</td>\n",
       "    </tr>\n",
       "    <tr>\n",
       "      <th>1894</th>\n",
       "      <td>47814.0</td>\n",
       "      <td>417684.0</td>\n",
       "      <td>2020-10-13 00:00:00+00:00</td>\n",
       "      <td>1 days</td>\n",
       "      <td>1.0</td>\n",
       "      <td>b</td>\n",
       "    </tr>\n",
       "  </tbody>\n",
       "</table>\n",
       "<p>8369 rows × 6 columns</p>\n",
       "</div>"
      ],
      "text/plain": [
       "      student_id  submission_id             approval_date  \\\n",
       "3704     39960.0       326977.0 2020-02-22 00:00:00+00:00   \n",
       "3703     39960.0       327411.0 2020-02-23 00:00:00+00:00   \n",
       "3700     39960.0       327711.0 2020-02-24 00:00:00+00:00   \n",
       "3701     39960.0       327697.0 2020-02-24 00:00:00+00:00   \n",
       "3702     39960.0       327681.0 2020-02-25 00:00:00+00:00   \n",
       "...          ...            ...                       ...   \n",
       "1898     47814.0       415323.0 2020-10-08 00:00:00+00:00   \n",
       "1895     47814.0       417048.0 2020-10-12 00:00:00+00:00   \n",
       "1896     47814.0       417018.0 2020-10-12 00:00:00+00:00   \n",
       "1897     47814.0       416986.0 2020-10-12 00:00:00+00:00   \n",
       "1894     47814.0       417684.0 2020-10-13 00:00:00+00:00   \n",
       "\n",
       "     submission_time_interval  submission_time_interval_days test_variable  \n",
       "3704                      NaT                            NaN             a  \n",
       "3703                   1 days                            1.0             a  \n",
       "3700                   1 days                            1.0             a  \n",
       "3701                   0 days                            0.0             a  \n",
       "3702                   1 days                            1.0             a  \n",
       "...                       ...                            ...           ...  \n",
       "1898                   3 days                            3.0             b  \n",
       "1895                   4 days                            4.0             b  \n",
       "1896                   0 days                            0.0             b  \n",
       "1897                   0 days                            0.0             b  \n",
       "1894                   1 days                            1.0             b  \n",
       "\n",
       "[8369 rows x 6 columns]"
      ]
     },
     "execution_count": 27,
     "metadata": {},
     "output_type": "execute_result"
    }
   ],
   "source": [
    "# make copy of all merged data\n",
    "submission_df = all_merge_df.copy()\n",
    "\n",
    "## remove missing values and sort_values\n",
    "submission_df_narm = submission_df.dropna(subset='approval_date').sort_values(by=['student_id', 'approval_date'])\n",
    "\n",
    "#group by student_id and compute time between submissions\n",
    "submission_df_narm['submission_time_interval'] = submission_df_narm.groupby('student_id')['approval_date'].diff()\n",
    "\n",
    "# get number of days as float from time between submissions and assign to new columns\n",
    "submission_df_narm['submission_time_interval_days'] = submission_df_narm['submission_time_interval'].dt.days\n",
    "\n",
    "# select some columns and view data\n",
    "\n",
    "submission_df_narm[['student_id', 'submission_id', 'approval_date', 'submission_time_interval','submission_time_interval_days', 'test_variable']]\n",
    "\n",
    "\n"
   ]
  },
  {
   "cell_type": "markdown",
   "metadata": {},
   "source": [
    "The table above depicts submission_time_interval variable as an estimate of the time between submissions in days.\n",
    "\n",
    "\n",
    "With this, the performance indicator can now be estimated. Variance in submission_time_interval_days variable is estimated for each progress model (test_variable) as follows:\n",
    "\n",
    "\n",
    "\n",
    "\n",
    "\n",
    "\n"
   ]
  },
  {
   "cell_type": "markdown",
   "metadata": {},
   "source": [
    "### Estimating consistency in time between submission with variance"
   ]
  },
  {
   "cell_type": "code",
   "execution_count": 29,
   "metadata": {},
   "outputs": [
    {
     "name": "stdout",
     "output_type": "stream",
     "text": [
      "Variance in time between submission for progress model A:  28.03\n",
      "Variance in time between submission for progress model B:  25.88\n"
     ]
    }
   ],
   "source": [
    "\n",
    "# create progress model A with time between submission\n",
    "progress_model_a_df = submission_df_narm[submission_df_narm['test_variable']== 'a']['submission_time_interval_days'].dropna()\n",
    "\n",
    "# create progress model B with time between submission\n",
    "progress_model_b_df = submission_df_narm[submission_df_narm['test_variable']== 'b']['submission_time_interval_days'].dropna()\n",
    "\n",
    "# estimate variance in progress model A\n",
    "\n",
    "progress_model_A_variance = statistics.variance(progress_model_a_df)\n",
    "\n",
    "# estimate variance in progress model B\n",
    "progress_model_B_variance = statistics.variance(progress_model_b_df)\n",
    "\n",
    "\n",
    "print(f\"Variance in time between submission for progress model A: {progress_model_A_variance: .2f}\")\n",
    "\n",
    "print(f\"Variance in time between submission for progress model B: {progress_model_B_variance: .2f}\")\n"
   ]
  },
  {
   "cell_type": "markdown",
   "metadata": {},
   "source": [
    "An important question that arise from comparing the variance noted in progress model A to model B is whether the difference is by chance or\n",
    "the model type is responsible for the variance. In order to answer the question of whether one model is performing better than the other, \n",
    "a hypothesis need to be tested for them. The hypothesis to be tested are stated as follows:\n",
    "    \n",
    "    \n",
    "Null Hypothesis (H0): There is no statistically significant difference in variance between progress model A and B\n",
    "\n",
    "Alternate Hypothesis (H1): There is statistically significant difference in variance between progress model A and B\n",
    "\n",
    "\n",
    "\n",
    "Having defned the hypothesis to be tested, the method to adopt needs to be determine. This is dependent on the dataset following assumptions required. A parametric method such as Student t-test requires the data to be normally distributed and variance to be homogeneous for the two groups with same sample size. When these assumptions are not captured by the data then a non-parametric method such as Welch's t-test can be used.\n",
    "\n",
    "\n",
    "These assumptions need to be verified to decide on the method for the analysis. Shapiro-Wilk method will be used to determine whether the data is normally distributed and levene method to determine whether groups are homogeneous.\n"
   ]
  },
  {
   "cell_type": "markdown",
   "metadata": {},
   "source": [
    "#### Shapiro-Wilk test \n",
    "Shapiro-Wilk has the following hypthesis:\n",
    "    \n",
    "Null hypothesis (H0): There is no difference between the distribution of the data and a normal distribution\n",
    "\n",
    "\n",
    "Alternate hypothesis (H1): There is a difference between the distribution of the data and a normal distribution\n",
    "\n",
    "\n",
    "This is verified as follows:"
   ]
  },
  {
   "cell_type": "code",
   "execution_count": 36,
   "metadata": {},
   "outputs": [
    {
     "name": "stdout",
     "output_type": "stream",
     "text": [
      "Shapiro test for Porgress model A showed a p-value of 0.0\n",
      "Shapiro test for Porgress model B showed a p-value of 0.0\n"
     ]
    }
   ],
   "source": [
    "# shapiro test\n",
    "model_a_shapiro = stats.shapiro(progress_model_a_df)\n",
    "\n",
    "\n",
    "model_b_shapiro = stats.shapiro(progress_model_b_df)\n",
    "\n",
    "print(f\"Shapiro test for Porgress model A showed a p-value of {model_a_shapiro[1]}\")\n",
    "\n",
    "print(f\"Shapiro test for Porgress model B showed a p-value of {model_b_shapiro[1]}\")"
   ]
  },
  {
   "cell_type": "markdown",
   "metadata": {},
   "source": [
    "The shapiro test with p-value of 0.00 which is less than 0.05 calls for rejection of the null hypothesis that the data is not different from a normal distribution."
   ]
  },
  {
   "cell_type": "markdown",
   "metadata": {},
   "source": [
    "### Levene test \n",
    "\n",
    "Levene test has the following hypothesis:\n",
    "    \n",
    "    \n",
    "Null hypothesis (H0): Variance is homogeneous between the two progress models\n",
    "\n",
    "\n",
    "Alternate Hypothesis (H1): Variance is not homogeneous between the two progress models\n",
    "\n",
    "\n",
    "\n",
    "Levene test is implemented as follows:\n",
    "    \n",
    "\n"
   ]
  },
  {
   "cell_type": "code",
   "execution_count": 38,
   "metadata": {},
   "outputs": [
    {
     "name": "stdout",
     "output_type": "stream",
     "text": [
      "Levene test show a p-value of 1.0\n"
     ]
    }
   ],
   "source": [
    "## run levene test \n",
    "model_levene_test = stats.levene(progress_model_a_df, progress_model_a_df)\n",
    "\n",
    "\n",
    "print(f\"Levene test show a p-value of {model_levene_test[1]}\")"
   ]
  },
  {
   "cell_type": "markdown",
   "metadata": {},
   "source": [
    "With a p-value of 1.0 with is greater than 0.05, the null hypothesis fails to be rejected. By this, variance is \n",
    "homogeneous hence a parametric method such as Student t-test will used to test the main hypothesis. Given that, the data is also not normally distributed, Welch's test will also be used to compare results. This is implemented as follows:\n"
   ]
  },
  {
   "cell_type": "code",
   "execution_count": 44,
   "metadata": {},
   "outputs": [
    {
     "data": {
      "text/html": [
       "<div>\n",
       "<style scoped>\n",
       "    .dataframe tbody tr th:only-of-type {\n",
       "        vertical-align: middle;\n",
       "    }\n",
       "\n",
       "    .dataframe tbody tr th {\n",
       "        vertical-align: top;\n",
       "    }\n",
       "\n",
       "    .dataframe thead th {\n",
       "        text-align: right;\n",
       "    }\n",
       "</style>\n",
       "<table border=\"1\" class=\"dataframe\">\n",
       "  <thead>\n",
       "    <tr style=\"text-align: right;\">\n",
       "      <th></th>\n",
       "      <th>T</th>\n",
       "      <th>dof</th>\n",
       "      <th>alternative</th>\n",
       "      <th>p-val</th>\n",
       "      <th>CI95%</th>\n",
       "      <th>cohen-d</th>\n",
       "      <th>BF10</th>\n",
       "      <th>power</th>\n",
       "    </tr>\n",
       "  </thead>\n",
       "  <tbody>\n",
       "    <tr>\n",
       "      <th>T-test</th>\n",
       "      <td>-0.405538</td>\n",
       "      <td>7978</td>\n",
       "      <td>two-sided</td>\n",
       "      <td>0.685093</td>\n",
       "      <td>[-0.27, 0.18]</td>\n",
       "      <td>0.00908</td>\n",
       "      <td>0.027</td>\n",
       "      <td>0.06904</td>\n",
       "    </tr>\n",
       "  </tbody>\n",
       "</table>\n",
       "</div>"
      ],
      "text/plain": [
       "               T   dof alternative     p-val          CI95%  cohen-d   BF10  \\\n",
       "T-test -0.405538  7978   two-sided  0.685093  [-0.27, 0.18]  0.00908  0.027   \n",
       "\n",
       "          power  \n",
       "T-test  0.06904  "
      ]
     },
     "execution_count": 44,
     "metadata": {},
     "output_type": "execute_result"
    }
   ],
   "source": [
    "\n",
    "# Student ttest\n",
    "student_ttest = pg.ttest(progress_model_a_df, progress_model_b_df, correction=False)\n",
    "\n",
    "student_ttest"
   ]
  },
  {
   "cell_type": "code",
   "execution_count": 45,
   "metadata": {},
   "outputs": [
    {
     "data": {
      "text/html": [
       "<div>\n",
       "<style scoped>\n",
       "    .dataframe tbody tr th:only-of-type {\n",
       "        vertical-align: middle;\n",
       "    }\n",
       "\n",
       "    .dataframe tbody tr th {\n",
       "        vertical-align: top;\n",
       "    }\n",
       "\n",
       "    .dataframe thead th {\n",
       "        text-align: right;\n",
       "    }\n",
       "</style>\n",
       "<table border=\"1\" class=\"dataframe\">\n",
       "  <thead>\n",
       "    <tr style=\"text-align: right;\">\n",
       "      <th></th>\n",
       "      <th>T</th>\n",
       "      <th>dof</th>\n",
       "      <th>alternative</th>\n",
       "      <th>p-val</th>\n",
       "      <th>CI95%</th>\n",
       "      <th>cohen-d</th>\n",
       "      <th>BF10</th>\n",
       "      <th>power</th>\n",
       "    </tr>\n",
       "  </thead>\n",
       "  <tbody>\n",
       "    <tr>\n",
       "      <th>T-test</th>\n",
       "      <td>-0.40538</td>\n",
       "      <td>7949.955691</td>\n",
       "      <td>two-sided</td>\n",
       "      <td>0.685209</td>\n",
       "      <td>[-0.28, 0.18]</td>\n",
       "      <td>0.00908</td>\n",
       "      <td>0.027</td>\n",
       "      <td>0.06904</td>\n",
       "    </tr>\n",
       "  </tbody>\n",
       "</table>\n",
       "</div>"
      ],
      "text/plain": [
       "              T          dof alternative     p-val          CI95%  cohen-d  \\\n",
       "T-test -0.40538  7949.955691   two-sided  0.685209  [-0.28, 0.18]  0.00908   \n",
       "\n",
       "         BF10    power  \n",
       "T-test  0.027  0.06904  "
      ]
     },
     "execution_count": 45,
     "metadata": {},
     "output_type": "execute_result"
    }
   ],
   "source": [
    "# Welch test\n",
    "\n",
    "welch_test = pg.ttest(progress_model_a_df, progress_model_b_df, correction=True)\n",
    "\n",
    "\n",
    "welch_test"
   ]
  },
  {
   "cell_type": "markdown",
   "metadata": {},
   "source": [
    "From the results of the Student t-test, p-value is 0.685 which is greater than 0.05 hence the null hypothesis that \n",
    "there is no statistically significant difference in the performance between progress model A and B in attaining consistent time \n",
    "between submissions fails to be rejected. \n",
    "\n",
    "\n",
    "\n",
    "## Conclusion\n",
    "\n",
    "It is concluded that despite, progress model B had a lower variance (25.88) hence variations between time for submission were relatively \n",
    "less and more consistent compared to progress model A (variance of 28.03), the difference is likely random and attributable to chance.\n",
    "The type of model is not the likely reason for a better consistency. Hence progress model B is achieving lower variance in \n",
    "submission time but no adequate evidence exist to support the notion that it is doing better than progress model A.\n",
    "\n",
    "\n",
    "\n",
    "\n",
    "\n"
   ]
  },
  {
   "cell_type": "code",
   "execution_count": null,
   "metadata": {},
   "outputs": [],
   "source": []
  },
  {
   "cell_type": "code",
   "execution_count": null,
   "metadata": {},
   "outputs": [],
   "source": []
  },
  {
   "cell_type": "markdown",
   "metadata": {},
   "source": [
    "# QUESTION 2"
   ]
  },
  {
   "cell_type": "markdown",
   "metadata": {},
   "source": [
    "2. Submissions- We are interested in discovering about how student,\n",
    "exercise and submission features contribute to the likelihood of a \n",
    "submission being passed or not. Create (or describe how you would create) an \n",
    "ML model which attempts this. What challenges do you face? What additional \n",
    "information would you like to have? Is your solution production-ready?"
   ]
  },
  {
   "cell_type": "markdown",
   "metadata": {},
   "source": [
    "## Problem statement\n",
    "\n",
    "As an educational company in the tech industry with the mission of becoming the most human-centric company, the success of students is a key factor that needs to be prioritized. Among others, the timely completion of studies will lay a good foundation as the first step to making progress towards meaningful careers. For this to be possible, student need to pass exercises that they submit for evaluation. This presents an avenue to analyze various factors that contribute to submissions being passed and by so doing harness the opportunity to optimize factors that enhance the likelihood of submissions being passed and curtail those that lead to not being passed. The absence of a mechanism or tool that enables this understanding to be gain is a challenge to be solved in this task using a data driven approach.\n",
    "\n",
    "\n",
    "### Research Question\n",
    "\n",
    "1. How do various known factors about student, exercise, and submission influence the likelihood of passing a submission?\n",
    "\n",
    "\n",
    "### Research Objective\n",
    "\n",
    "1. To analyze the impact of various factors on the likelihood of passing a submission\n",
    "\n",
    "\n",
    "### Expected Results\n",
    "\n",
    "A machine learning model that explains the influence of various factors on the likelihood of passing a submission will be produce. The result is expected to be discussed in this report.\n",
    "\n",
    "\n",
    "\n",
    "In developing a machine learning model, the end goal is one of the major factors that determines the end-product of the modeling process. The focus of this task is deduced to be interpretability rather than precision or prediction accuracy of the machine learning model to be developed since the aim is to discover how factors contribute to a submission being passed rather than accurately predicting whether or not a submission will be passed. Thus, the focus will be to use models that yields ease of interpretation and less computationally expensive rather than a more complex and highly optimized model for perfect prediction. This assertion informed the methodology employed here with no focus on tuning hyperparameters.\n",
    "\n",
    "\n",
    "\n",
    "\n",
    "With the problem statement and user requirement identified, the whole modeling process can be defined to include data exploration, model development and evaluation, packaging and deployment into production environment. For this task, focus is mainly on detailing data exploration and modeling.\n"
   ]
  },
  {
   "cell_type": "markdown",
   "metadata": {},
   "source": [
    "## Exploratory data analysis\n",
    "\n",
    "#### Identifying variables to be used\n",
    "\n",
    "Determining the type of variables present for the modeling exercise is key to deciding on the category \n",
    "from which a machine learning algorithm can be choosen.\n",
    "\n",
    "For this, the task indicates the presence of a target variable hence a supervised machine learning model will be used. The problem statement also depicts that a binary target variable is expected with the classes of either passed or not passed a submission hence binary classification algorithm will be used.\n",
    "\n",
    "\n",
    "The statistical properties of the target and predictor variables are also analyzed to determine the algorithm to be used. \n",
    "\n",
    "In order to gain a clear understanding of the variables present, the data is imported for the analysis. Also variable names that will be used often as arguments in the analysis are stored in namespace\n"
   ]
  },
  {
   "cell_type": "code",
   "execution_count": 69,
   "metadata": {},
   "outputs": [],
   "source": [
    "# import all models required for the analysis\n",
    "from sklearn.linear_model import LogisticRegression\n",
    "from sklearn.metrics import  classification_report\n",
    "from sklearn.preprocessing import StandardScaler, OneHotEncoder\n",
    "from sklearn.model_selection import train_test_split\n",
    "import pandas as pd\n",
    "import numpy as np\n",
    "from argparse import Namespace\n",
    "from sklearn.compose import make_column_transformer\n",
    "from sklearn.pipeline import make_pipeline\n",
    "import matplotlib.pyplot as plt\n",
    "import seaborn as sns\n",
    "from scipy.stats import chi2_contingency"
   ]
  },
  {
   "cell_type": "code",
   "execution_count": 73,
   "metadata": {},
   "outputs": [],
   "source": [
    "args = Namespace(\n",
    "    target_variable = 'state',\n",
    "    target_variable_transformed = 'state_category',\n",
    "    predictor_variables = ['average_answer_time_in_hours', 'progress_percent', 'test_variable_transform'],\n",
    "    numeric_features = ['progress_percent', 'average_answer_time_in_min', 'extra_time_min',\n",
    "                        ],\n",
    "    categorical_features = ['work_rate'],\n",
    "    binary_feature = ['test_variable_transform'],\n",
    "    predictors = ['progress_percent', 'average_answer_time_in_min', 'extra_time_min',\n",
    "                  'work_rate', 'test_variable_transform'],\n",
    "    selected_predictors = ['progress_percent', 'extra_time_min', 'work_rate',\n",
    "                        ],\n",
    "    selected_numeric_features = ['progress_percent', 'extra_time_min']\n",
    "\n",
    ")"
   ]
  },
  {
   "cell_type": "code",
   "execution_count": 48,
   "metadata": {},
   "outputs": [
    {
     "data": {
      "text/html": [
       "<div>\n",
       "<style scoped>\n",
       "    .dataframe tbody tr th:only-of-type {\n",
       "        vertical-align: middle;\n",
       "    }\n",
       "\n",
       "    .dataframe tbody tr th {\n",
       "        vertical-align: top;\n",
       "    }\n",
       "\n",
       "    .dataframe thead th {\n",
       "        text-align: right;\n",
       "    }\n",
       "</style>\n",
       "<table border=\"1\" class=\"dataframe\">\n",
       "  <thead>\n",
       "    <tr style=\"text-align: right;\">\n",
       "      <th></th>\n",
       "      <th>submission_id</th>\n",
       "      <th>student_id</th>\n",
       "      <th>exercise_id</th>\n",
       "      <th>state</th>\n",
       "      <th>approval_date</th>\n",
       "      <th>average_answer_time_in_hours</th>\n",
       "      <th>name_x</th>\n",
       "      <th>position</th>\n",
       "      <th>min_task_time_in_min</th>\n",
       "      <th>max_task_time_in_min</th>\n",
       "      <th>name_y</th>\n",
       "      <th>start_date</th>\n",
       "      <th>target_completion_date</th>\n",
       "      <th>progress_percent</th>\n",
       "      <th>test_variable</th>\n",
       "    </tr>\n",
       "  </thead>\n",
       "  <tbody>\n",
       "    <tr>\n",
       "      <th>0</th>\n",
       "      <td>343141.0</td>\n",
       "      <td>40243.0</td>\n",
       "      <td>8433.0</td>\n",
       "      <td>approved</td>\n",
       "      <td>2020-04-19 00:00:00+00:00</td>\n",
       "      <td>7.540</td>\n",
       "      <td>Exercise 11</td>\n",
       "      <td>11.0</td>\n",
       "      <td>60.0</td>\n",
       "      <td>180.0</td>\n",
       "      <td>Student 355</td>\n",
       "      <td>2020-02-29 00:00:00+00:00</td>\n",
       "      <td>2021-01-05 00:00:00+00:00</td>\n",
       "      <td>22.0</td>\n",
       "      <td>a</td>\n",
       "    </tr>\n",
       "    <tr>\n",
       "      <th>1</th>\n",
       "      <td>397957.0</td>\n",
       "      <td>42906.0</td>\n",
       "      <td>8433.0</td>\n",
       "      <td>approved</td>\n",
       "      <td>2020-09-02 00:00:00+00:00</td>\n",
       "      <td>7.440</td>\n",
       "      <td>Exercise 11</td>\n",
       "      <td>11.0</td>\n",
       "      <td>60.0</td>\n",
       "      <td>180.0</td>\n",
       "      <td>Student 205</td>\n",
       "      <td>2020-05-26 00:00:00+00:00</td>\n",
       "      <td>2021-02-01 00:00:00+00:00</td>\n",
       "      <td>22.0</td>\n",
       "      <td>b</td>\n",
       "    </tr>\n",
       "    <tr>\n",
       "      <th>2</th>\n",
       "      <td>398759.0</td>\n",
       "      <td>43515.0</td>\n",
       "      <td>8434.0</td>\n",
       "      <td>approved</td>\n",
       "      <td>2020-09-04 00:00:00+00:00</td>\n",
       "      <td>18.420</td>\n",
       "      <td>Exercise 21</td>\n",
       "      <td>21.0</td>\n",
       "      <td>60.0</td>\n",
       "      <td>180.0</td>\n",
       "      <td>Student 122</td>\n",
       "      <td>2020-06-12 00:00:00+00:00</td>\n",
       "      <td>2021-01-14 00:00:00+00:00</td>\n",
       "      <td>45.0</td>\n",
       "      <td>b</td>\n",
       "    </tr>\n",
       "    <tr>\n",
       "      <th>3</th>\n",
       "      <td>381763.0</td>\n",
       "      <td>43515.0</td>\n",
       "      <td>8433.0</td>\n",
       "      <td>approved</td>\n",
       "      <td>2020-07-26 00:00:00+00:00</td>\n",
       "      <td>3.520</td>\n",
       "      <td>Exercise 11</td>\n",
       "      <td>11.0</td>\n",
       "      <td>60.0</td>\n",
       "      <td>180.0</td>\n",
       "      <td>Student 122</td>\n",
       "      <td>2020-06-12 00:00:00+00:00</td>\n",
       "      <td>2021-01-14 00:00:00+00:00</td>\n",
       "      <td>45.0</td>\n",
       "      <td>b</td>\n",
       "    </tr>\n",
       "    <tr>\n",
       "      <th>4</th>\n",
       "      <td>395175.0</td>\n",
       "      <td>43660.0</td>\n",
       "      <td>8434.0</td>\n",
       "      <td>approved</td>\n",
       "      <td>2020-08-29 00:00:00+00:00</td>\n",
       "      <td>15.705</td>\n",
       "      <td>Exercise 21</td>\n",
       "      <td>21.0</td>\n",
       "      <td>60.0</td>\n",
       "      <td>180.0</td>\n",
       "      <td>Student 207</td>\n",
       "      <td>2020-06-17 00:00:00+00:00</td>\n",
       "      <td>2021-01-27 00:00:00+00:00</td>\n",
       "      <td>49.0</td>\n",
       "      <td>b</td>\n",
       "    </tr>\n",
       "  </tbody>\n",
       "</table>\n",
       "</div>"
      ],
      "text/plain": [
       "   submission_id  student_id  exercise_id     state             approval_date  \\\n",
       "0       343141.0     40243.0       8433.0  approved 2020-04-19 00:00:00+00:00   \n",
       "1       397957.0     42906.0       8433.0  approved 2020-09-02 00:00:00+00:00   \n",
       "2       398759.0     43515.0       8434.0  approved 2020-09-04 00:00:00+00:00   \n",
       "3       381763.0     43515.0       8433.0  approved 2020-07-26 00:00:00+00:00   \n",
       "4       395175.0     43660.0       8434.0  approved 2020-08-29 00:00:00+00:00   \n",
       "\n",
       "   average_answer_time_in_hours       name_x  position  min_task_time_in_min  \\\n",
       "0                         7.540  Exercise 11      11.0                  60.0   \n",
       "1                         7.440  Exercise 11      11.0                  60.0   \n",
       "2                        18.420  Exercise 21      21.0                  60.0   \n",
       "3                         3.520  Exercise 11      11.0                  60.0   \n",
       "4                        15.705  Exercise 21      21.0                  60.0   \n",
       "\n",
       "   max_task_time_in_min       name_y                start_date  \\\n",
       "0                 180.0  Student 355 2020-02-29 00:00:00+00:00   \n",
       "1                 180.0  Student 205 2020-05-26 00:00:00+00:00   \n",
       "2                 180.0  Student 122 2020-06-12 00:00:00+00:00   \n",
       "3                 180.0  Student 122 2020-06-12 00:00:00+00:00   \n",
       "4                 180.0  Student 207 2020-06-17 00:00:00+00:00   \n",
       "\n",
       "     target_completion_date  progress_percent test_variable  \n",
       "0 2021-01-05 00:00:00+00:00              22.0             a  \n",
       "1 2021-02-01 00:00:00+00:00              22.0             b  \n",
       "2 2021-01-14 00:00:00+00:00              45.0             b  \n",
       "3 2021-01-14 00:00:00+00:00              45.0             b  \n",
       "4 2021-01-27 00:00:00+00:00              49.0             b  "
      ]
     },
     "execution_count": 48,
     "metadata": {},
     "output_type": "execute_result"
    }
   ],
   "source": [
    "## The process of merging all the files is repeated here just to make sure task 2 is independent of task 1\n",
    "\n",
    "\n",
    "datapath = get_data_path(folder_name='', file_name='student_-_exercise_progress.numbers')\n",
    "\n",
    "exercise_df = get_data_from_numbers_file(data_filepath=datapath, tab=0)\n",
    "\n",
    "student_df = get_data_from_numbers_file(data_filepath=datapath, tab=1)\n",
    "\n",
    "submission_df = get_data_from_numbers_file(data_filepath=datapath, tab=2)\n",
    "\n",
    "\n",
    "submit_exercise_df = submission_df.merge(right=exercise_df, on='exercise_id', how='left')\n",
    "\n",
    "all_df =  submit_exercise_df.merge(right=df_1, how='left', on='student_id')\n",
    "all_df.head()\n",
    "\n"
   ]
  },
  {
   "cell_type": "markdown",
   "metadata": {},
   "source": [
    "### Describing variables in the dataset"
   ]
  },
  {
   "cell_type": "code",
   "execution_count": 51,
   "metadata": {},
   "outputs": [
    {
     "name": "stdout",
     "output_type": "stream",
     "text": [
      "<class 'pandas.core.frame.DataFrame'>\n",
      "Int64Index: 8499 entries, 0 to 8498\n",
      "Data columns (total 15 columns):\n",
      " #   Column                        Non-Null Count  Dtype                          \n",
      "---  ------                        --------------  -----                          \n",
      " 0   submission_id                 8499 non-null   float64                        \n",
      " 1   student_id                    8499 non-null   float64                        \n",
      " 2   exercise_id                   8499 non-null   float64                        \n",
      " 3   state                         8499 non-null   object                         \n",
      " 4   approval_date                 8369 non-null   datetime64[ns, Timezone('UTC')]\n",
      " 5   average_answer_time_in_hours  8499 non-null   float64                        \n",
      " 6   name_x                        8499 non-null   object                         \n",
      " 7   position                      8499 non-null   float64                        \n",
      " 8   min_task_time_in_min          8499 non-null   float64                        \n",
      " 9   max_task_time_in_min          8499 non-null   float64                        \n",
      " 10  name_y                        8499 non-null   object                         \n",
      " 11  start_date                    8499 non-null   datetime64[ns, Timezone('UTC')]\n",
      " 12  target_completion_date        8499 non-null   datetime64[ns, Timezone('UTC')]\n",
      " 13  progress_percent              8499 non-null   float64                        \n",
      " 14  test_variable                 8499 non-null   object                         \n",
      "dtypes: datetime64[ns, Timezone('UTC')](3), float64(8), object(4)\n",
      "memory usage: 1.0+ MB\n"
     ]
    }
   ],
   "source": [
    "# get description of the various variables in the dataset\n",
    "all_df.info()"
   ]
  },
  {
   "cell_type": "markdown",
   "metadata": {},
   "source": [
    "## Variable selection\n",
    "\n",
    "### Target variable selection and transformation\n",
    "\n",
    "From the variables in the dataset, state is identified as the target variable. The variable is described below\n"
   ]
  },
  {
   "cell_type": "code",
   "execution_count": 56,
   "metadata": {},
   "outputs": [
    {
     "name": "stdout",
     "output_type": "stream",
     "text": [
      "Number of values (classes) in state variable: state    5\n",
      "dtype: int64\n",
      "The unique values in the state variable are as floows: ['approved' 'almost_there' 'waiting_for_review' 'a_little_more' 'not_yet']\n"
     ]
    },
    {
     "data": {
      "text/plain": [
       "array(['approved', 'almost_there', 'waiting_for_review', 'a_little_more',\n",
       "       'not_yet'], dtype=object)"
      ]
     },
     "execution_count": 56,
     "metadata": {},
     "output_type": "execute_result"
    }
   ],
   "source": [
    "all_df[['state']].nunique()\n",
    "\n",
    "print(f\"Number of values (classes) in state variable: {all_df[['state']].nunique()}\")\n",
    "\n",
    "print(f\"The unique values in the state variable are as floows: {all_df['state'].unique()}\")\n",
    "all_df['state'].unique()"
   ]
  },
  {
   "cell_type": "markdown",
   "metadata": {},
   "source": [
    "The unique values in state shows that contrary to only two classes of values, 5 classes are present. \n",
    "\n",
    "The state variable will \n",
    "be transformed to a binary one by reclassifying all submissions that were not approved as not passed and those approved as passed.\n",
    "\n",
    "\n",
    "The second form of transformation to be applied to the target variable is to convert it to numeric values. Generally, \n",
    "machine learning algorithms only handle numeric values well and not strings.\n",
    "\n",
    "The transformation of the target variable is implemented as follows: \n"
   ]
  },
  {
   "cell_type": "code",
   "execution_count": 62,
   "metadata": {},
   "outputs": [
    {
     "data": {
      "text/plain": [
       "2"
      ]
     },
     "execution_count": 62,
     "metadata": {},
     "output_type": "execute_result"
    }
   ],
   "source": [
    "# list of values for non-approved submissions\n",
    "not_passed = ['waiting_for_review', 'almost_there', 'not_yet', 'a_little_more']\n",
    "\n",
    "# approved submissions are classied as 1 others 0 to get a numeric binary variable\n",
    "transform_state_variable = lambda x: 0 if x in not_passed else 1\n",
    "\n",
    "\n",
    "# apply transform data\n",
    "all_df['state_category'] = all_df[args.target_variable].apply(transform_state_variable)\n",
    "\n",
    "# now target variable is binary with only 2 values\n",
    "all_df['state_category'].nunique()\n"
   ]
  },
  {
   "cell_type": "markdown",
   "metadata": {},
   "source": [
    "### Visualize target variable distribution\n",
    "\n",
    "A possible challenge that is faced for machine classification models is unbalanced data. The target variable is analyze and visualized to find the proportion of each class in the dataset.\n"
   ]
  },
  {
   "cell_type": "code",
   "execution_count": 64,
   "metadata": {},
   "outputs": [
    {
     "data": {
      "text/plain": [
       "1    8369\n",
       "0     130\n",
       "Name: state_category, dtype: int64"
      ]
     },
     "execution_count": 64,
     "metadata": {},
     "output_type": "execute_result"
    }
   ],
   "source": [
    "\n",
    "all_df['state_category'].value_counts()"
   ]
  },
  {
   "cell_type": "code",
   "execution_count": 66,
   "metadata": {},
   "outputs": [
    {
     "data": {
      "text/plain": [
       "Text(0.5, 1.0, 'Distribution of pass (1) and not passed (0)')"
      ]
     },
     "execution_count": 66,
     "metadata": {},
     "output_type": "execute_result"
    },
    {
     "data": {
      "image/png": "[encoded data removed]",
      "text/plain": [
       "<Figure size 640x480 with 1 Axes>"
      ]
     },
     "metadata": {},
     "output_type": "display_data"
    }
   ],
   "source": [
    "all_df['state_category'].value_counts().plot(kind='bar')\n",
    "plt.title(\"Distribution of pass (1) and not passed (0)\")"
   ]
  },
  {
   "cell_type": "markdown",
   "metadata": {},
   "source": [
    "The bar graph above shows that the data is unbalanced with 8369 submissions passed and 130 not passed.\n",
    "\n",
    "By this a random model which only predicts the majority class will be very accurate in predicting the majority class while having a higher error margin for the minority class. \n",
    "\n",
    "In a classification task where the focus is on the minority class with the aim of achieving a high accuracy on the minority class, a number of techniques are available to achieve that at the expense of the majority class. This include oversampling \n",
    "the minority class, undersampling the majority class and using class weights for the modeling among others.\n",
    "\n",
    "Given that the aim of this task is not to achieve high precision on the majority or minorty class, a model design that tradeoffs high accuracy in the majority class to achieve a compromised and balance accuracy in both classes is made.\n",
    "\n",
    "By this, unbalanced dataset is handled by using class weight that balances the model."
   ]
  },
  {
   "cell_type": "markdown",
   "metadata": {},
   "source": [
    "## Predictor variables selection and transformation\n",
    "\n",
    "Predictor variables can be grouped into categorical and numerical variables. In selecting variables, a decision is made not to select variables that introduce curse of dimensionality and increase the feature space exponentially when transformed. By this, categorical variables with high cardinality are not selected. This include categorical variables with many unique values. To investigate this categorical variables are first identified and then the number of unique values is calculated.\n",
    "\n",
    "\n",
    "\n",
    "### Handling of categorical predictor variables\n",
    "\n",
    "The variables submission_id, student_id, exercise_id and test_variable are identified as categorical hence analyzed to determine if it is of high cardinality as follows;\n"
   ]
  },
  {
   "cell_type": "code",
   "execution_count": 68,
   "metadata": {},
   "outputs": [
    {
     "name": "stdout",
     "output_type": "stream",
     "text": [
      "submission_id has 8499 values\n",
      "student_id has 389 values\n",
      "exercise_id has 34 values\n",
      "test_variable has 2 values\n"
     ]
    }
   ],
   "source": [
    "\n",
    "list_categorical = ['submission_id', 'student_id', 'exercise_id', 'test_variable']\n",
    "\n",
    "# analyze number of unique values in each categorical variable\n",
    "for variable in list_categorical:\n",
    "    print(f'{variable} has {all_df[variable].nunique()} values')"
   ]
  },
  {
   "cell_type": "markdown",
   "metadata": {},
   "source": [
    "On the basis of high cardinality, submission_id, student_id and exercise_id are not selected to be included in the model. \n",
    "\n",
    "Intutively, these variables are less likely to provide meaningful signals to model the likelihood of passing a submission. \n",
    "\n",
    "\n",
    "test_variable is binary hence it is selected and subjected to further test to determine whether it has a \n",
    "statistically significant relationship with the target variable for it to be selected for modeling. \n",
    "For this, a chi squared test of independence is undertaken. Chi squared test is used because both variables are categorical. \n",
    "\n",
    "\n",
    "First test_variable is transformed to be numeric. The process is implemented as follows;\n"
   ]
  },
  {
   "cell_type": "code",
   "execution_count": 74,
   "metadata": {},
   "outputs": [
    {
     "data": {
      "text/plain": [
       "(2.9479174282714906,\n",
       " 0.08598830136419744,\n",
       " 1,\n",
       " array([[  64.21226027, 4133.78773973],\n",
       "        [  65.78773973, 4235.21226027]]))"
      ]
     },
     "execution_count": 74,
     "metadata": {},
     "output_type": "execute_result"
    }
   ],
   "source": [
    "# reclassify progress model A as 0 and B as 1\n",
    "transform_test_variable = lambda x: 0 if x == 'a' else 1\n",
    "\n",
    "\n",
    "# apply transform data\n",
    "\n",
    "all_df['test_variable_transform'] = all_df['test_variable'].apply(transform_test_variable)\n",
    "\n",
    "# create crosstab\n",
    "test_state_crosstab_df = pd.crosstab(all_df['test_variable_transform'], all_df[args.target_variable_transformed], margins = False)\n",
    "\n",
    "\n",
    "test_state_crosstab_df.columns = ['not-passed', 'passed']\n",
    "test_state_crosstab_df.index = ['0', '1']\n",
    "\n",
    "\n",
    "# chi squared test\n",
    "chi2_contingency(observed=test_state_crosstab_df)\n"
   ]
  },
  {
   "cell_type": "markdown",
   "metadata": {},
   "source": [
    "With a p-value of 0.859 which is greater than 0.05, the null hypothesis that there is a no statistically significant \n",
    "relationship between passing a submission and progress model fails to be rejected. Hence test_variable is not \n",
    "selected for the modeling.\n",
    "\n",
    "\n"
   ]
  },
  {
   "cell_type": "markdown",
   "metadata": {},
   "source": [
    "## Categorical feature engineering\n",
    "\n",
    "An important component of machine learning process is developing new features that have predictive powers \n",
    "to augment available data. This is demonstrated here.\n",
    "\n",
    "Some variables may not be directly relevant for the model but can be used to develop other variables. Such variables\n",
    "have been identified as min_task_time_in_min and max_task_time_in_min. These variables will be used in conjunction\n",
    "with average_answer_time_in_hours (to be converted to minutes) to create work_rate variable.\n",
    "\n",
    "\n",
    "It is hypothesized that the rate at which a student work to complete an exercise is likely to influence \n",
    "whether or not the submission will be passed.  Work rate is conceptualized as a categorical variable with three \n",
    "categories namely slow, normal and fast. \n",
    "\n",
    "\n",
    "Work rate is operationalized such that when average_answer_time_in_min a student used in completing an exercise \n",
    "is less than min_task_time_in_min assigned to the exercise than work rate is defined to be fast hence the student \n",
    "hurriedly completed the exercise and that could influence whether or not she will pass.\n",
    "\n",
    "\n",
    "Work rate is defined to be normal when average_answer_time_in_min used is greater than or equal to min_task_time_in_min and less than or equal to max_task_time_min.\n",
    "\n",
    "\n",
    "Work rate is defined to be slow when average_answer_time_in_min used to complete the exercise is greater\n",
    "than max_task_time_in_min.\n",
    "\n",
    "This process for creating work_rate variable is implemented below\n"
   ]
  },
  {
   "cell_type": "code",
   "execution_count": 75,
   "metadata": {},
   "outputs": [],
   "source": [
    "# create function to convert hours to minute \n",
    "\n",
    "convert_hours_to_minute = lambda x: x * 60\n",
    "\n",
    "# apply function to average_answer_time_in_hours to convert to minutes to be in the same unit as\n",
    "# min_task_time_in_min and max_task_time_in_min\n",
    "\n",
    "all_df['average_answer_time_in_min'] = all_df['average_answer_time_in_hours'].apply(convert_hours_to_minute)\n",
    "\n",
    "\n",
    "# function to create work_rate variable\n",
    "def define_work_rate(data: pd.DataFrame, \n",
    "                     min_time_alloted: str = 'min_task_time_in_min', \n",
    "                     max_time_alloted: str = 'max_task_time_in_min',\n",
    "                     actual_time_used: str = 'average_answer_time_in_min'\n",
    "                     ):\n",
    "    data['work_rate'] = np.where((data[actual_time_used] < data[min_time_alloted]), 'fast', np.nan)\n",
    "    data['work_rate'] = np.where((data[actual_time_used] >= data[min_time_alloted]) & (data[actual_time_used] <= data[max_time_alloted]), 'normal', data['work_rate'])\n",
    "    data['work_rate'] = np.where((data[actual_time_used] > data[max_time_alloted]), 'slow', data['work_rate'])\n",
    "    return data\n",
    "\n",
    "# implement function for work_rate\n",
    "all_df = define_work_rate(data=all_df)\n"
   ]
  },
  {
   "cell_type": "markdown",
   "metadata": {},
   "source": [
    "### Determining whether or not work rate is related to submission being passed\n",
    "\n",
    "The notion that work_rate will have an influence on submission being passed is based on educated guess \n",
    "hence there is the need for a statistical evidence to support the variable to be selected for modeling.\n",
    "\n",
    "First a visualization technique is used followed by a statistical test\n"
   ]
  },
  {
   "cell_type": "code",
   "execution_count": 84,
   "metadata": {},
   "outputs": [
    {
     "data": {
      "text/plain": [
       "Text(0.5, 1.0, 'Number of submissions (pass / not pass) for various work rate')"
      ]
     },
     "execution_count": 84,
     "metadata": {},
     "output_type": "execute_result"
    },
    {
     "data": {
      "image/png": "[encoded data removed]",
      "text/plain": [
       "<Figure size 640x480 with 1 Axes>"
      ]
     },
     "metadata": {},
     "output_type": "display_data"
    }
   ],
   "source": [
    "workrate_state_crosstab_df = pd.crosstab(all_df['work_rate'], all_df['state_category'], margins = False)\n",
    "\n",
    "workrate_state_crosstab_df.columns = ['not-passed', 'passed']\n",
    "workrate_state_crosstab_df.index = ['fast', 'normal', 'slow']\n",
    "\n",
    "\n",
    "workrate_state_crosstab_df.plot(kind=\"bar\")\n",
    "plt.title('Number of submissions (pass / not pass) for various work rate')"
   ]
  },
  {
   "cell_type": "markdown",
   "metadata": {},
   "source": [
    "Given the number of submissions for pass and not passed are not evenly distributed but with huge differences \n",
    "\n",
    "among the various work rate, it is likely that work rate has an influence on submission. The visualization is \n",
    "supported with statistical analysis as follows:"
   ]
  },
  {
   "cell_type": "code",
   "execution_count": 85,
   "metadata": {},
   "outputs": [
    {
     "data": {
      "text/plain": [
       "(100.69531311429601,\n",
       " 1.3623559112077784e-22,\n",
       " 2,\n",
       " array([[  30.19414049, 1943.80585951],\n",
       "        [  16.9325803 , 1090.0674197 ],\n",
       "        [  82.87327921, 5335.12672079]]))"
      ]
     },
     "execution_count": 85,
     "metadata": {},
     "output_type": "execute_result"
    }
   ],
   "source": [
    "# chi squared test between work rate and submission\n",
    "chi2_contingency(observed=workrate_state_crosstab_df)"
   ]
  },
  {
   "cell_type": "markdown",
   "metadata": {},
   "source": [
    "With p-value less than 0.05, the null hypothesis that there is no reationship between state (pass/not_pass)\n",
    "and work_rate is rejected. This variable is expected to influence state hence selected to be included in the model\n"
   ]
  },
  {
   "cell_type": "markdown",
   "metadata": {},
   "source": [
    "## Handling numeric predictor variables"
   ]
  },
  {
   "cell_type": "markdown",
   "metadata": {},
   "source": [
    "Two main numeric variables have been identified for modeling as average_answer_time_in_min and progress_percent and \n",
    "feature engineering can be undertaken to create a third one.\n",
    "\n",
    "\n",
    "Intuitively, the length of extra time used by a student for an exercise is likely to have an influence on whether or not the submission is passed. Conceptually, extra time variable can be computed by the difference between \n",
    "max_task_time_in_min and avg_task_time_in_min. To transform this properly, where the result is negative, it means \n",
    "the student used less than the max_task_time_in_min hence 0 is assigned as extra time.\n",
    "\n",
    "\n",
    "The process of creating extra_time variable is implemented as follows\n"
   ]
  },
  {
   "cell_type": "code",
   "execution_count": 81,
   "metadata": {},
   "outputs": [],
   "source": [
    "\n",
    "rescale_negative_to_zero =  lambda x: 0 if x < 0 else x\n",
    "\n",
    "\n",
    "# compute extra time\n",
    "\n",
    "def calculate_extra_time_min(data: pd.DataFrame = None, max_time_min=\"max_task_time_in_min\", \n",
    "                             actual_time_min=\"average_answer_time_in_min\",\n",
    "                             make_negative_time_zero_minutes: callable = rescale_negative_to_zero\n",
    "                             ):\n",
    "    data['time_diff'] = data[actual_time_min] - data[max_time_min]\n",
    "    \n",
    "    data['extra_time_min'] = data['time_diff'].apply(make_negative_time_zero_minutes)\n",
    "    \n",
    "    return data\n",
    "    \n",
    "\n",
    "all_df_with_extra_features =  calculate_extra_time_min(data=all_df)\n",
    "\n",
    "  "
   ]
  },
  {
   "cell_type": "markdown",
   "metadata": {},
   "source": [
    "In selecting numerical variables, a key criteria used is to avoid multicollinearity. This is because variables\n",
    "that are strongly correlated are redundant hence lead to overfitting. \n",
    "\n",
    "\n",
    "To check multicollinearity for variable selection, correlation analysis is undertaken as follows"
   ]
  },
  {
   "cell_type": "code",
   "execution_count": 87,
   "metadata": {},
   "outputs": [
    {
     "name": "stdout",
     "output_type": "stream",
     "text": [
      "Correlation matrix for numeric variables\n"
     ]
    },
    {
     "data": {
      "text/html": [
       "<div>\n",
       "<style scoped>\n",
       "    .dataframe tbody tr th:only-of-type {\n",
       "        vertical-align: middle;\n",
       "    }\n",
       "\n",
       "    .dataframe tbody tr th {\n",
       "        vertical-align: top;\n",
       "    }\n",
       "\n",
       "    .dataframe thead th {\n",
       "        text-align: right;\n",
       "    }\n",
       "</style>\n",
       "<table border=\"1\" class=\"dataframe\">\n",
       "  <thead>\n",
       "    <tr style=\"text-align: right;\">\n",
       "      <th></th>\n",
       "      <th>progress_percent</th>\n",
       "      <th>average_answer_time_in_min</th>\n",
       "      <th>extra_time_min</th>\n",
       "    </tr>\n",
       "  </thead>\n",
       "  <tbody>\n",
       "    <tr>\n",
       "      <th>progress_percent</th>\n",
       "      <td>1.000000</td>\n",
       "      <td>0.004964</td>\n",
       "      <td>0.002898</td>\n",
       "    </tr>\n",
       "    <tr>\n",
       "      <th>average_answer_time_in_min</th>\n",
       "      <td>0.004964</td>\n",
       "      <td>1.000000</td>\n",
       "      <td>0.996089</td>\n",
       "    </tr>\n",
       "    <tr>\n",
       "      <th>extra_time_min</th>\n",
       "      <td>0.002898</td>\n",
       "      <td>0.996089</td>\n",
       "      <td>1.000000</td>\n",
       "    </tr>\n",
       "  </tbody>\n",
       "</table>\n",
       "</div>"
      ],
      "text/plain": [
       "                            progress_percent  average_answer_time_in_min  \\\n",
       "progress_percent                    1.000000                    0.004964   \n",
       "average_answer_time_in_min          0.004964                    1.000000   \n",
       "extra_time_min                      0.002898                    0.996089   \n",
       "\n",
       "                            extra_time_min  \n",
       "progress_percent                  0.002898  \n",
       "average_answer_time_in_min        0.996089  \n",
       "extra_time_min                    1.000000  "
      ]
     },
     "execution_count": 87,
     "metadata": {},
     "output_type": "execute_result"
    }
   ],
   "source": [
    "numeric_feature = all_df_with_extra_features[args.numeric_features]\n",
    "\n",
    "\n",
    "numeric_feature_correlation = numeric_feature.corr()\n",
    "\n",
    "print('Correlation matrix for numeric variables')\n",
    "numeric_feature_correlation"
   ]
  },
  {
   "cell_type": "markdown",
   "metadata": {},
   "source": [
    "average_answer_time_in_min and extra_time_min are strongly positively correlated which means that including both \n",
    "variables provide very similar information signals to the model hence redundant.\n",
    "Thus, one of the them is selected and the other dropped to reduce overfitting. \n",
    "In deciding which of them to include, ease of interpretability and relevance for decision\n",
    "making is considered. Generally, the relevance of average_answer_time_in_min will depend\n",
    "on the minimum and maximum time allocated for the exercise. Extra time is an indicator that can easily\n",
    "be communicated to students in a manner that is easy to be optimized. For example,\n",
    "if students are told that the probability of an exercise being passed reduces by 10% \n",
    "for every extra hour time used then, they can easily minimize using extra time and focus \n",
    "on working within time. For this reason, extra_time is used for the analysis"
   ]
  },
  {
   "cell_type": "markdown",
   "metadata": {},
   "source": [
    "## Selected predictor variables\n",
    "\n",
    "The explortory analysis undertaken has provided clues for the selection of multiple logistic regression with \n",
    "predictor variables identified as follows\n",
    "\n",
    "1. progress_percent\n",
    "2. extra_time_min\n",
    "3. work_rate\n",
    "\n",
    "\n",
    "It is duly recognized that a different model may actually attain a better precision. However, logistic regression \n",
    "has the advantages of being more interpretable compared to other models particularly blackbox models."
   ]
  },
  {
   "cell_type": "markdown",
   "metadata": {},
   "source": [
    "## Developing the model  \n",
    "\n",
    "### Deciding on model evaluation metric \n",
    "\n",
    "Although the aim of the modeling task is to undertsand the influence of various variables, \n",
    "deciding on a good evaluation metric is critical.\n",
    "\n",
    "\n",
    "First of all, because the data is highly unbalanced, accuracy is not a very good metric to use. This is because \n",
    "a high accuracy can be achieve even with a dummy model that only predicts the majority class as the outcome.\n",
    "\n",
    "Class weight is used to balance the dataset to improve accuracy in the minority class which comes at the cost of \n",
    "reducing accuracy in the majority class. The metric to used is f1 score which is a balance between precision and recall\n"
   ]
  },
  {
   "cell_type": "markdown",
   "metadata": {},
   "source": [
    "## Splitting dataset for modeling\n",
    "\n",
    "In order to investigate generalizability of the model developed, the dataset is split into training and test set \n",
    "\n",
    "in the ratio of 70% to 30% respectively. The model is trained on 70% of the data. This is implemented as follows:"
   ]
  },
  {
   "cell_type": "code",
   "execution_count": 92,
   "metadata": {},
   "outputs": [],
   "source": [
    "X = all_df_with_extra_features[args.selected_predictors]\n",
    "\n",
    "\n",
    "y = all_df_with_extra_features[args.target_variable_transformed]\n",
    "\n",
    "X_train, X_test, y_train, y_test = train_test_split(X, y, test_size=0.3, random_state=2022)\n",
    "\n"
   ]
  },
  {
   "cell_type": "markdown",
   "metadata": {},
   "source": [
    "## Preprocessing data for machine learning\n",
    "The preprocessing pipeline for variables to be prepared for modeling is highlighted as follows\n",
    "\n",
    "1. Multi-class categorical variables are encoded using One-hot encoding strategy \n",
    "2. Numercial variables are scaled using the standard scaler.\n",
    "\n",
    "The preprocessing pipeline is implemented as follows:  \n"
   ]
  },
  {
   "cell_type": "code",
   "execution_count": 93,
   "metadata": {},
   "outputs": [],
   "source": [
    "one = OneHotEncoder(handle_unknown='ignore')\n",
    "scaler = StandardScaler()\n",
    "\n",
    "preprocess_pipeline =  make_column_transformer((scaler, args.selected_numeric_features),\n",
    "                                                (one, args.categorical_features)\n",
    "                                                )\n",
    "\n",
    "logit_model_pipeline = make_pipeline(preprocess_pipeline,\n",
    "                                    LogisticRegression(class_weight='balanced')\n",
    "                                    )"
   ]
  },
  {
   "cell_type": "markdown",
   "metadata": {},
   "source": [
    "## Fitting the model\n",
    "\n",
    "After building the preprocessing and model pipeline, the model is fitted on the training data as implemented below"
   ]
  },
  {
   "cell_type": "code",
   "execution_count": 96,
   "metadata": {},
   "outputs": [],
   "source": [
    "# fit model on train data\n",
    "\n",
    "logit_model_pipeline.fit(X_train, y_train)\n",
    "\n",
    "\n",
    "# using model for prediction \n",
    "\n",
    "y_pred= logit_model_pipeline.predict(X_test)\n"
   ]
  },
  {
   "cell_type": "markdown",
   "metadata": {},
   "source": [
    "## Evaluating the model on test data\n",
    "\n",
    "A report of how well the model perform on unseen data is provided below\n",
    "\n",
    "\n",
    "\n"
   ]
  },
  {
   "cell_type": "code",
   "execution_count": 97,
   "metadata": {},
   "outputs": [
    {
     "name": "stdout",
     "output_type": "stream",
     "text": [
      "              precision    recall  f1-score   support\n",
      "\n",
      "           0       0.04      0.61      0.08        44\n",
      "           1       0.99      0.75      0.85      2506\n",
      "\n",
      "    accuracy                           0.75      2550\n",
      "   macro avg       0.52      0.68      0.46      2550\n",
      "weighted avg       0.97      0.75      0.84      2550\n",
      "\n"
     ]
    }
   ],
   "source": [
    "print(classification_report(y_test, y_pred))"
   ]
  },
  {
   "cell_type": "markdown",
   "metadata": {},
   "source": [
    "## How do various features contribute to submission being passed\n",
    "\n",
    "The main focus of the modeling exercise is to undertsand how various factors influence the likelihood of\n",
    "submission being passed or not hence this will be the focus of discussion. \n",
    "\n",
    "The question can now be answered by understanding the coefficient of the variables included in the model. \n",
    "\n",
    "This is undertaken as follows:\n",
    "\n",
    "\n",
    "\n"
   ]
  },
  {
   "cell_type": "code",
   "execution_count": 98,
   "metadata": {},
   "outputs": [
    {
     "data": {
      "text/plain": [
       "<AxesSubplot: >"
      ]
     },
     "execution_count": 98,
     "metadata": {},
     "output_type": "execute_result"
    },
    {
     "data": {
      "image/png": "[encoded data removed]",
      "text/plain": [
       "<Figure size 900x700 with 1 Axes>"
      ]
     },
     "metadata": {},
     "output_type": "display_data"
    }
   ],
   "source": [
    "logit_model_pipeline.named_steps['logisticregression'].coef_\n",
    "\n",
    "\n",
    "selected_model_features = logit_model_pipeline[:-1].get_feature_names_out()\n",
    "\n",
    "\n",
    "model_coefs = pd.DataFrame(\n",
    "    logit_model_pipeline.named_steps['logisticregression'].coef_.reshape(5,1),\n",
    "    columns=[\"Coefficients\"],\n",
    "    index=selected_model_features,\n",
    ")\n",
    "\n",
    "model_coefs\n",
    "\n",
    "\n",
    "model_coefs.plot.barh(figsize=(9, 7))\n",
    "\n"
   ]
  },
  {
   "cell_type": "code",
   "execution_count": 99,
   "metadata": {},
   "outputs": [
    {
     "data": {
      "text/html": [
       "<div>\n",
       "<style scoped>\n",
       "    .dataframe tbody tr th:only-of-type {\n",
       "        vertical-align: middle;\n",
       "    }\n",
       "\n",
       "    .dataframe tbody tr th {\n",
       "        vertical-align: top;\n",
       "    }\n",
       "\n",
       "    .dataframe thead th {\n",
       "        text-align: right;\n",
       "    }\n",
       "</style>\n",
       "<table border=\"1\" class=\"dataframe\">\n",
       "  <thead>\n",
       "    <tr style=\"text-align: right;\">\n",
       "      <th></th>\n",
       "      <th>Coefficients</th>\n",
       "    </tr>\n",
       "  </thead>\n",
       "  <tbody>\n",
       "    <tr>\n",
       "      <th>standardscaler__progress_percent</th>\n",
       "      <td>0.356283</td>\n",
       "    </tr>\n",
       "    <tr>\n",
       "      <th>standardscaler__extra_time_min</th>\n",
       "      <td>-0.203697</td>\n",
       "    </tr>\n",
       "    <tr>\n",
       "      <th>onehotencoder__work_rate_fast</th>\n",
       "      <td>-1.287969</td>\n",
       "    </tr>\n",
       "    <tr>\n",
       "      <th>onehotencoder__work_rate_normal</th>\n",
       "      <td>0.763430</td>\n",
       "    </tr>\n",
       "    <tr>\n",
       "      <th>onehotencoder__work_rate_slow</th>\n",
       "      <td>0.524407</td>\n",
       "    </tr>\n",
       "  </tbody>\n",
       "</table>\n",
       "</div>"
      ],
      "text/plain": [
       "                                  Coefficients\n",
       "standardscaler__progress_percent      0.356283\n",
       "standardscaler__extra_time_min       -0.203697\n",
       "onehotencoder__work_rate_fast        -1.287969\n",
       "onehotencoder__work_rate_normal       0.763430\n",
       "onehotencoder__work_rate_slow         0.524407"
      ]
     },
     "execution_count": 99,
     "metadata": {},
     "output_type": "execute_result"
    }
   ],
   "source": [
    "model_coefs"
   ]
  },
  {
   "cell_type": "markdown",
   "metadata": {},
   "source": [
    "## Interpretation of results\n",
    "\n",
    "The results shows that students who have attained a higher progress percent are more likely to pass their submissions.\n",
    "Moreover, spending more time on an exercise beyond the max_task_time_in_min as captured by extra_time reduces the likelihood of passing submissions. In terms of work rate, students with fast work rate (use less time than the alloted minimum time for exercise) are less likely to pass their submissions compared other students who do otherwise. Moreover, students with normal work rate have a higher likelihood of passing submissions compared to others. \n"
   ]
  },
  {
   "cell_type": "markdown",
   "metadata": {},
   "source": [
    "## Areas of improvement of the model\n",
    "\n",
    "1. Feature augmentation with additional features such as educational background of student, difficulty \n",
    "\n",
    "rating of course among others are likely to influence the likelihood of passing submission. Hence, additional features will help improve the model.\n",
    "\n",
    "\n",
    "2. Hyperparameter optimization, cross-validation among other techniques of improving model accuracy have not be undertaken here. Such tasks will contribute to improving the model.\n",
    "\n",
    "3. One of the challenges posed by the task was unbalanced data and this was handled by setting class weight to balance for he model.\n",
    "\n",
    "4. The code is not production ready given that an exploratory approach was undertaken here. \n",
    "\n",
    "### A nearly production ready version is provided on github for your perusal"
   ]
  }
 ],
 "metadata": {
  "kernelspec": {
   "display_name": "Python 3.9.4 ('env_ml_python')",
   "language": "python",
   "name": "python3"
  },
  "language_info": {
   "codemirror_mode": {
    "name": "ipython",
    "version": 3
   },
   "file_extension": ".py",
   "mimetype": "text/x-python",
   "name": "python",
   "nbconvert_exporter": "python",
   "pygments_lexer": "ipython3",
   "version": "3.9.4"
  },
  "orig_nbformat": 4,
  "vscode": {
   "interpreter": {
    "hash": "1f1a038019c0bb5ad28c3f0ffb71e9b7f6eac35612433b9ec47d820289a35306"
   }
  }
 },
 "nbformat": 4,
 "nbformat_minor": 2
}
